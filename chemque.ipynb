{
 "cells": [
  {
   "cell_type": "code",
   "execution_count": 1,
   "id": "2ee271bc",
   "metadata": {},
   "outputs": [],
   "source": [
    "from chemque import *"
   ]
  },
  {
   "cell_type": "markdown",
   "id": "1a8a657a",
   "metadata": {},
   "source": [
    "$$\\require{mhchem}$$ "
   ]
  },
  {
   "cell_type": "code",
   "execution_count": 2,
   "id": "10df97cb",
   "metadata": {},
   "outputs": [
    {
     "data": {
      "text/markdown": [
       "Q-1. What is mixture?"
      ],
      "text/plain": [
       "<IPython.core.display.Markdown object>"
      ]
     },
     "metadata": {},
     "output_type": "display_data"
    },
    {
     "data": {
      "text/markdown": [
       "  A. Composition of more than one substance"
      ],
      "text/plain": [
       "<IPython.core.display.Markdown object>"
      ]
     },
     "metadata": {},
     "output_type": "display_data"
    },
    {
     "data": {
      "text/markdown": [
       "  B. Composition of more than two substance "
      ],
      "text/plain": [
       "<IPython.core.display.Markdown object>"
      ]
     },
     "metadata": {},
     "output_type": "display_data"
    },
    {
     "data": {
      "text/markdown": [
       "  C. Composition of more than three substance "
      ],
      "text/plain": [
       "<IPython.core.display.Markdown object>"
      ]
     },
     "metadata": {},
     "output_type": "display_data"
    },
    {
     "data": {
      "text/markdown": [
       "  D. $\\ce{H2O}$"
      ],
      "text/plain": [
       "<IPython.core.display.Markdown object>"
      ]
     },
     "metadata": {},
     "output_type": "display_data"
    },
    {
     "name": "stdout",
     "output_type": "stream",
     "text": [
      "Enter your choice from the given options: A\n",
      "Correct\n"
     ]
    }
   ],
   "source": [
    "mixque.printque(0)"
   ]
  },
  {
   "cell_type": "code",
   "execution_count": 3,
   "id": "c4458c37",
   "metadata": {},
   "outputs": [
    {
     "data": {
      "text/markdown": [
       "Q-2. State the types of mixture -"
      ],
      "text/plain": [
       "<IPython.core.display.Markdown object>"
      ]
     },
     "metadata": {},
     "output_type": "display_data"
    },
    {
     "data": {
      "text/markdown": [
       "  A. Homogeneous"
      ],
      "text/plain": [
       "<IPython.core.display.Markdown object>"
      ]
     },
     "metadata": {},
     "output_type": "display_data"
    },
    {
     "data": {
      "text/markdown": [
       "  B. Hetrogeneous "
      ],
      "text/plain": [
       "<IPython.core.display.Markdown object>"
      ]
     },
     "metadata": {},
     "output_type": "display_data"
    },
    {
     "name": "stdout",
     "output_type": "stream",
     "text": [
      "Enter your choice from the given options: B\n",
      "Correct\n"
     ]
    }
   ],
   "source": [
    "mixque.printque(1)"
   ]
  },
  {
   "cell_type": "code",
   "execution_count": 4,
   "id": "931f7751",
   "metadata": {
    "scrolled": false
   },
   "outputs": [
    {
     "data": {
      "text/markdown": [
       " Q-3.  क्या हम हिंदी में काम कर सकते हैं "
      ],
      "text/plain": [
       "<IPython.core.display.Markdown object>"
      ]
     },
     "metadata": {},
     "output_type": "display_data"
    },
    {
     "data": {
      "text/markdown": [
       "  A. No"
      ],
      "text/plain": [
       "<IPython.core.display.Markdown object>"
      ]
     },
     "metadata": {},
     "output_type": "display_data"
    },
    {
     "data": {
      "text/markdown": [
       "  B. Not at all "
      ],
      "text/plain": [
       "<IPython.core.display.Markdown object>"
      ]
     },
     "metadata": {},
     "output_type": "display_data"
    },
    {
     "data": {
      "text/markdown": [
       "  C. Yes, Occasionally  "
      ],
      "text/plain": [
       "<IPython.core.display.Markdown object>"
      ]
     },
     "metadata": {},
     "output_type": "display_data"
    },
    {
     "data": {
      "text/markdown": [
       "  D. Yes, Always"
      ],
      "text/plain": [
       "<IPython.core.display.Markdown object>"
      ]
     },
     "metadata": {},
     "output_type": "display_data"
    },
    {
     "name": "stdout",
     "output_type": "stream",
     "text": [
      "Enter your choice from the given options: D\n",
      "Not Correct\n"
     ]
    }
   ],
   "source": [
    "mixque.printque(2)"
   ]
  },
  {
   "cell_type": "code",
   "execution_count": 5,
   "id": "47acf196",
   "metadata": {},
   "outputs": [
    {
     "name": "stdout",
     "output_type": "stream",
     "text": [
      "2\n"
     ]
    }
   ],
   "source": [
    "print(mixque.score)"
   ]
  },
  {
   "cell_type": "code",
   "execution_count": 6,
   "id": "a742c3aa",
   "metadata": {},
   "outputs": [
    {
     "name": "stdout",
     "output_type": "stream",
     "text": [
      "{'Q1': 'Right', 'Q2': 'Right', 'Q3': 'Wrong'}\n"
     ]
    }
   ],
   "source": [
    "print(mixque.attempts)"
   ]
  },
  {
   "cell_type": "code",
   "execution_count": null,
   "id": "3216f839",
   "metadata": {},
   "outputs": [],
   "source": []
  }
 ],
 "metadata": {
  "kernelspec": {
   "display_name": "Python 3",
   "language": "python",
   "name": "python3"
  },
  "language_info": {
   "codemirror_mode": {
    "name": "ipython",
    "version": 3
   },
   "file_extension": ".py",
   "mimetype": "text/x-python",
   "name": "python",
   "nbconvert_exporter": "python",
   "pygments_lexer": "ipython3",
   "version": "3.7.10"
  }
 },
 "nbformat": 4,
 "nbformat_minor": 5
}
